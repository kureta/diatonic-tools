{
 "cells": [
  {
   "cell_type": "code",
   "execution_count": 85,
   "id": "91b8e3d7-b74e-4c48-ab5e-7c57ad896cc6",
   "metadata": {},
   "outputs": [],
   "source": [
    "from dataclasses import dataclass\n",
    "import itertools\n",
    "from fractions import Fraction\n",
    "import numpy as np\n",
    "\n",
    "from music21.pitch import Pitch"
   ]
  },
  {
   "cell_type": "code",
   "execution_count": 2,
   "id": "c3c83089-de36-4ce5-b9f4-6c74a2f94a28",
   "metadata": {},
   "outputs": [],
   "source": [
    "# round to nearest n division of a whole tone. 2 is usual (1/2), 4 is quarter-tone (1/4), etc.\n",
    "def round_midi_to_microtone(x, microtone=2):\n",
    "    microtone //= 2\n",
    "\n",
    "    # base midi number\n",
    "    base = round(x)\n",
    "    # actual deviation\n",
    "    dev = x - base\n",
    "\n",
    "    # quantized deviation\n",
    "    q_dev = round((dev * microtone * 100)/100)/microtone\n",
    "\n",
    "    # np.float everywhere, looks ugly\n",
    "    return base, str(Fraction(q_dev)/2), str(f'{dev*100:.2f}')"
   ]
  },
  {
   "cell_type": "code",
   "execution_count": 3,
   "id": "99863175-0933-4bf8-8e8d-c148832d7aee",
   "metadata": {},
   "outputs": [],
   "source": [
    "def midi_to_note_name(midi_number):\n",
    "    sharp_note_names = ['C', 'C#', 'D', 'D#', 'E', 'F', 'F#', 'G', 'G#', 'A', 'A#', 'B']\n",
    "    flat_note_names = ['C', 'Db', 'D', 'Eb', 'E', 'F', 'Gb', 'G', 'Ab', 'A', 'Bb', 'B']\n",
    "    octave = midi_number // 12 - 1\n",
    "    sharp_note = sharp_note_names[midi_number % 12]\n",
    "    flat_note = flat_note_names[midi_number % 12]\n",
    "    \n",
    "    if sharp_note == flat_note:\n",
    "        return f\"{sharp_note}{octave}\"\n",
    "    else:\n",
    "        return f\"{sharp_note}{octave} / {flat_note}{octave}\"\n",
    "\n",
    "def note_name_to_midi(note_name):\n",
    "    note_name = note_name.upper()\n",
    "    # Mapping of note names to their semitone positions relative to C\n",
    "    note_to_semitone = {\n",
    "        'C': 0, 'C#': 1, 'Db': 1, 'D': 2, 'D#': 3, 'Eb': 3, \n",
    "        'E': 4, 'F': 5, 'F#': 6, 'Gb': 6, 'G': 7, 'G#': 8, \n",
    "        'Ab': 8, 'A': 9, 'A#': 10, 'Bb': 10, 'B': 11\n",
    "    }\n",
    "    \n",
    "    # Extract the note and octave from the input string\n",
    "    note = note_name[:-1]\n",
    "    octave = int(note_name[-1])\n",
    "    \n",
    "    # Calculate the MIDI number\n",
    "    midi_number = 12 * (octave + 1) + note_to_semitone[note]\n",
    "    \n",
    "    return midi_number\n",
    "\n",
    "def midi_to_hz(midi):\n",
    "    return 440 * 2**((midi - 69) / 12)\n",
    "\n",
    "def hz_to_midi(f):\n",
    "    return 69 + 12 * np.log2(f / 440)"
   ]
  },
  {
   "cell_type": "code",
   "execution_count": 4,
   "id": "a022ffdb-7b78-4d00-8745-cc663df16d45",
   "metadata": {},
   "outputs": [],
   "source": [
    "# f0 is the MIDI number of the fundamental frequency\n",
    "# precision = how many divisions of a whole tone. 2 is 12-edo, 4 is quarter tone, etc.\n",
    "# first N overtones or just give a nth overtone?\n",
    "def overtone(f0_midi, n):\n",
    "    hz = midi_to_hz(f0_midi)\n",
    "    result = hz_to_midi(hz * n)\n",
    "\n",
    "    return result\n",
    "\n",
    "def nearest_midi_note(midi):\n",
    "    return round(midi)\n",
    "\n",
    "def nearest_microtone_adjustment(midi, microtone):\n",
    "    microtone //= 2\n",
    "    # base midi number\n",
    "    base = round(midi)\n",
    "    # actual deviation\n",
    "    dev = midi - base\n",
    "    # quantized deviation\n",
    "    q_dev = round((dev * microtone * 100)/100)/microtone\n",
    "\n",
    "    return Fraction(q_dev)/2\n",
    "\n",
    "def reduce_octaves(midi):\n",
    "    return midi % 12"
   ]
  },
  {
   "cell_type": "code",
   "execution_count": 88,
   "id": "513b22c3-bc04-40cd-b5f8-30823270b2e4",
   "metadata": {},
   "outputs": [],
   "source": [
    "@dataclass\n",
    "class MicrotonalPitch:\n",
    "    name: str\n",
    "    microtone_deviation: Fraction\n",
    "    cents_deviation: int\n",
    "\n",
    "    def __repr__(self):\n",
    "        return f'{self.name:<11} {str(self.microtone_deviation):>4} {self.cents_deviation:>3}'\n",
    "    \n",
    "    def __str__(self):\n",
    "        return self.__repr__()\n",
    "\n",
    "def float_midi_to_microtonal_pitch(midi, microtones):\n",
    "    ob_midi = nearest_midi_note(midi)\n",
    "    oc_dev = round((midi - ob_midi)*100)\n",
    "    om_dev = nearest_microtone_adjustment(midi, microtones)\n",
    "    note_name = midi_to_note_name(ob_midi)\n",
    "\n",
    "    return MicrotonalPitch(note_name, om_dev, oc_dev)\n",
    "\n",
    "def overtone_series(note, microtones, n_overtones):\n",
    "    midi = note_name_to_midi(note)\n",
    "    microtonal_pitches = []\n",
    "    for i in range(1, n_overtones+1):\n",
    "        o_midi = overtone(midi, i)\n",
    "        microtonal_pitches.append(float_midi_to_microtonal_pitch(o_midi, microtones))\n",
    "\n",
    "    return microtonal_pitches"
   ]
  },
  {
   "cell_type": "code",
   "execution_count": 89,
   "id": "c7242f25-8041-4035-b0f8-f079d9892fd1",
   "metadata": {},
   "outputs": [],
   "source": [
    "# cents to sibelius pitch bend value\n",
    "def cents_to_pitch_bend(cents):\n",
    "    if cents <= 0:\n",
    "        value = (1 + cents / 200) * 64\n",
    "    else:\n",
    "        value = (cents / 200) * (127 - 64) + 64\n",
    "\n",
    "    return round(value)"
   ]
  },
  {
   "cell_type": "code",
   "execution_count": 90,
   "id": "e17b4023-61ee-4bbe-b271-91b55c7806d1",
   "metadata": {},
   "outputs": [],
   "source": [
    "# `up` is unnecessary. they are the same as the actual sounding notes\n",
    "def _harmonic_location(n, up=True):\n",
    "    if up:\n",
    "        n = 1 / (1 - 1/n)\n",
    "    \n",
    "    return 12 * np.log2(n)\n",
    "\n",
    "def harmonic_location(n, note, microtones, up=True):\n",
    "    distance = _harmonic_location(n, up)\n",
    "    midi = note_name_to_midi(note)\n",
    "    position = distance + midi\n",
    "\n",
    "    return float_midi_to_microtonal_pitch(position, microtones)"
   ]
  },
  {
   "cell_type": "code",
   "execution_count": 93,
   "id": "b902358d-b05a-48f8-9a91-97cea7ce01ba",
   "metadata": {},
   "outputs": [
    {
     "name": "stdout",
     "output_type": "stream",
     "text": [
      "1 : D3             0   0 - pitch bend: 64\n",
      "2 : D4             0   0 - pitch bend: 64\n",
      "3 : A4             0   2 - pitch bend: 65\n",
      "4 : D5             0   0 - pitch bend: 64\n",
      "5 : F#5 / Gb5   -1/8 -14 - pitch bend: 60\n",
      "6 : A5             0   2 - pitch bend: 65\n",
      "7 : C6          -1/8 -31 - pitch bend: 54\n",
      "8 : D6             0   0 - pitch bend: 64\n",
      "9 : E6             0   4 - pitch bend: 65\n",
      "10: F#6 / Gb6   -1/8 -14 - pitch bend: 60\n",
      "11: G#6 / Ab6   -1/4 -49 - pitch bend: 48\n",
      "12: A6             0   2 - pitch bend: 65\n",
      "13: A#6 / Bb6    1/4  41 - pitch bend: 77\n",
      "14: C7          -1/8 -31 - pitch bend: 54\n",
      "15: C#7 / Db7      0 -12 - pitch bend: 60\n",
      "16: D7             0   0 - pitch bend: 64\n",
      "17: D#7 / Eb7      0   5 - pitch bend: 66\n",
      "18: E7             0   4 - pitch bend: 65\n",
      "19: F7             0  -2 - pitch bend: 63\n",
      "20: F#7 / Gb7   -1/8 -14 - pitch bend: 60\n",
      "21: G7          -1/8 -29 - pitch bend: 55\n",
      "22: G#7 / Ab7   -1/4 -49 - pitch bend: 48\n",
      "23: G#7 / Ab7    1/8  28 - pitch bend: 73\n",
      "24: A7             0   2 - pitch bend: 65\n",
      "25: A#7 / Bb7   -1/8 -27 - pitch bend: 55\n",
      "26: A#7 / Bb7    1/4  41 - pitch bend: 77\n",
      "27: B7             0   6 - pitch bend: 66\n",
      "28: C8          -1/8 -31 - pitch bend: 54\n",
      "29: C8           1/8  30 - pitch bend: 73\n",
      "30: C#8 / Db8      0 -12 - pitch bend: 60\n",
      "31: C#8 / Db8    1/4  45 - pitch bend: 78\n",
      "32: D8             0   0 - pitch bend: 64\n",
      "33: D#8 / Eb8   -1/4 -47 - pitch bend: 49\n",
      "34: D#8 / Eb8      0   5 - pitch bend: 66\n",
      "35: E8          -1/4 -45 - pitch bend: 50\n"
     ]
    }
   ],
   "source": [
    "# filter odd overtones\n",
    "my_overtones = overtone_series('d3', 8, 35)\n",
    "for idx, val in zip(range(1, 36), my_overtones):\n",
    "    # if idx % 2 == 0:\n",
    "        # continue\n",
    "    print(f'{idx:<2}: {val} - pitch bend: {cents_to_pitch_bend(val.cents_deviation)}')\n",
    "    # microtonal pitch bend: {cents_to_pitch_bend(val.microtone_deviation * 200)} - actual\n",
    "    # print(f'{idx:<2}: {val}')"
   ]
  },
  {
   "cell_type": "code",
   "execution_count": 94,
   "id": "9f5562a6-0c8a-4b58-b9cb-459f6f32c9bd",
   "metadata": {},
   "outputs": [
    {
     "name": "stdout",
     "output_type": "stream",
     "text": [
      "2 D4             0   0      D4             0   0\n",
      "3 A3             0   2      A4             0   2\n",
      "4 G3             0  -2      D5             0   0\n",
      "5 F#3 / Gb3   -1/8 -14      F#5 / Gb5   -1/8 -14\n",
      "6 F3           1/8  16      A5             0   2\n",
      "7 F3          -1/8 -33      C6          -1/8 -31\n",
      "8 E3           1/8  31      D6             0   0\n",
      "9 E3             0   4      E6             0   4\n",
      "10 E3          -1/8 -18      F#6 / Gb6   -1/8 -14\n",
      "11 E3          -1/8 -35      G#6 / Ab6   -1/4 -49\n",
      "12 E3          -1/4 -49      A6             0   2\n"
     ]
    }
   ],
   "source": [
    "for i in range(2, 13):\n",
    "    print(i, harmonic_location(i, 'd3', 8), \"    \", float_midi_to_microtonal_pitch(overtone(note_name_to_midi('d3'), i), 8))"
   ]
  },
  {
   "cell_type": "code",
   "execution_count": 43,
   "id": "0378f57c-c37f-43c8-8787-f03246dd67da",
   "metadata": {},
   "outputs": [],
   "source": [
    "def harmonic_reduce_octave(n):\n",
    "    while n % 2 == 0:\n",
    "        n = n // 2\n",
    "\n",
    "    return n"
   ]
  },
  {
   "cell_type": "code",
   "execution_count": 44,
   "id": "67591ae0-7623-41f3-822f-e858ca84920b",
   "metadata": {},
   "outputs": [],
   "source": [
    "def frac_harm_reduce_octave(f):\n",
    "    a, b = f.numerator, f.denominator\n",
    "    a = harmonic_reduce_octave(a)\n",
    "    b = harmonic_reduce_octave(b)\n",
    "\n",
    "    return Fraction(a, b)"
   ]
  },
  {
   "cell_type": "code",
   "execution_count": 54,
   "id": "3f94d83e-b6fc-4e3a-ac17-06a7804d29d5",
   "metadata": {},
   "outputs": [],
   "source": [
    "def arithmetic_mean(*xs):\n",
    "    xs = [Fraction(x) for x in xs]\n",
    "    return frac_harm_reduce_octave(Fraction(sum(xs), len(xs)))"
   ]
  },
  {
   "cell_type": "code",
   "execution_count": 55,
   "id": "ae0561a7-4037-478d-bf52-7c07117ede8c",
   "metadata": {},
   "outputs": [],
   "source": [
    "def harmonic_mean(*xs):\n",
    "    xs = [Fraction(x) for x in xs]\n",
    "    return frac_harm_reduce_octave(Fraction(len(xs), sum(1/x for x in xs)))"
   ]
  },
  {
   "cell_type": "code",
   "execution_count": 56,
   "id": "6b7e35fd-84c5-49d6-8604-0ab8a092d3d2",
   "metadata": {},
   "outputs": [],
   "source": [
    "def divide_into(a, b, divisor):\n",
    "    if a > b:\n",
    "        a, b = b, a\n",
    "\n",
    "    diff = b - a\n",
    "    step = Fraction(diff / divisor)\n",
    "\n",
    "    return [frac_harm_reduce_octave(a + step * i) for i in range(divisor + 1)]"
   ]
  },
  {
   "cell_type": "code",
   "execution_count": 77,
   "id": "488e2c15-a55e-4904-b3d2-b696f2d238d6",
   "metadata": {},
   "outputs": [],
   "source": [
    "# can also use difference tone (maybe sum tone?)\n",
    "def get_all_related_overtones(*xs, divisor=None):\n",
    "    am = arithmetic_mean(*xs)\n",
    "    hm = harmonic_mean(*xs)\n",
    "\n",
    "    ams = f'Arithmetic mean: {am}'\n",
    "    hms = f'Harmonic mean: {hm}'\n",
    "\n",
    "    if len(xs) == 2 and divisor is not None:\n",
    "        division = divide_into(*xs, divisor)\n",
    "        division_s = f'Division: {[str(d) for d in division]}'\n",
    "        return ams, hms, division_s, frac_harm_reduce_octave(sum(xs)), frac_harm_reduce_octave(abs(xs[0]-xs[1]))\n",
    "\n",
    "    return ams, hms"
   ]
  },
  {
   "cell_type": "code",
   "execution_count": 109,
   "id": "469cfdc3-770e-40a8-8d41-336bec6e69ae",
   "metadata": {},
   "outputs": [
    {
     "data": {
      "text/plain": [
       "(('Arithmetic mean: 5',\n",
       "  'Harmonic mean: 19/5',\n",
       "  \"Division: ['1', '11', '5', '29', '19']\",\n",
       "  Fraction(5, 1),\n",
       "  Fraction(9, 1)),\n",
       " ('Arithmetic mean: 1',\n",
       "  'Harmonic mean: 39',\n",
       "  \"Division: ['3', '11', '1', '21', '13']\",\n",
       "  Fraction(1, 1),\n",
       "  Fraction(5, 1)))"
      ]
     },
     "execution_count": 109,
     "metadata": {},
     "output_type": "execute_result"
    }
   ],
   "source": [
    "get_all_related_overtones(1, 19, divisor=4), get_all_related_overtones(3, 13, divisor=4)"
   ]
  },
  {
   "cell_type": "code",
   "execution_count": 107,
   "id": "9805b550-7f73-4615-9afb-8a59dabf6e73",
   "metadata": {},
   "outputs": [
    {
     "data": {
      "text/plain": [
       "(('Arithmetic mean: 1',\n",
       "  'Harmonic mean: 55',\n",
       "  \"Division: ['5', '13', '1', '19', '11']\",\n",
       "  Fraction(1, 1),\n",
       "  Fraction(3, 1)),\n",
       " ('Arithmetic mean: 13',\n",
       "  'Harmonic mean: 133/13',\n",
       "  \"Division: ['7', '5', '13', '1', '19']\",\n",
       "  Fraction(13, 1),\n",
       "  Fraction(3, 1)))"
      ]
     },
     "execution_count": 107,
     "metadata": {},
     "output_type": "execute_result"
    }
   ],
   "source": [
    "get_all_related_overtones(5, 11, divisor=4), get_all_related_overtones(7, 19, divisor=4)"
   ]
  },
  {
   "cell_type": "code",
   "execution_count": 70,
   "id": "98eb65c1-e246-4611-83d5-058a9dee1d22",
   "metadata": {},
   "outputs": [
    {
     "data": {
      "text/plain": [
       "(('Arithmetic mean: 3',\n",
       "  'Harmonic mean: 95/3',\n",
       "  \"Division: ['5', '17', '3', '31', '19']\"),\n",
       " ('Arithmetic mean: 9',\n",
       "  'Harmonic mean: 77/9',\n",
       "  \"Division: ['7', '1', '9', '5', '11']\"))"
      ]
     },
     "execution_count": 70,
     "metadata": {},
     "output_type": "execute_result"
    }
   ],
   "source": [
    "get_all_related_overtones(5, 19, divisor=4), get_all_related_overtones(7, 11, divisor=4)"
   ]
  },
  {
   "cell_type": "code",
   "execution_count": 106,
   "id": "5ac13303-8620-4c37-8b27-601d7ff940b7",
   "metadata": {},
   "outputs": [
    {
     "data": {
      "text/plain": [
       "(('Arithmetic mean: 5',\n",
       "  'Harmonic mean: 91/5',\n",
       "  \"Division: ['7', '17', '5', '23', '13']\",\n",
       "  Fraction(5, 1),\n",
       "  Fraction(3, 1)),\n",
       " ('Arithmetic mean: 3',\n",
       "  'Harmonic mean: 5/3',\n",
       "  \"Division: ['1', '1', '3', '1', '5']\",\n",
       "  Fraction(3, 1),\n",
       "  Fraction(1, 1)))"
      ]
     },
     "execution_count": 106,
     "metadata": {},
     "output_type": "execute_result"
    }
   ],
   "source": [
    "get_all_related_overtones(7, 13, divisor=4), get_all_related_overtones(1, 5, divisor=4)"
   ]
  },
  {
   "cell_type": "code",
   "execution_count": 72,
   "id": "d5293ab1-9538-401b-88be-6c25944f22ca",
   "metadata": {},
   "outputs": [
    {
     "data": {
      "text/plain": [
       "(('Arithmetic mean: 11',\n",
       "  'Harmonic mean: 57/11',\n",
       "  \"Division: ['3', '7', '11', '15', '19']\"),\n",
       " ('Arithmetic mean: 7',\n",
       "  'Harmonic mean: 13/7',\n",
       "  \"Division: ['1', '1', '7', '5', '13']\"))"
      ]
     },
     "execution_count": 72,
     "metadata": {},
     "output_type": "execute_result"
    }
   ],
   "source": [
    "get_all_related_overtones(3, 19, divisor=4), get_all_related_overtones(1, 13, divisor=4)"
   ]
  },
  {
   "cell_type": "code",
   "execution_count": 73,
   "id": "408b44a4-4c53-41f0-bfef-4161438b6520",
   "metadata": {},
   "outputs": [
    {
     "data": {
      "text/plain": [
       "(('Arithmetic mean: 13',\n",
       "  'Harmonic mean: 133/13',\n",
       "  \"Division: ['7', '5', '13', '1', '19']\"),\n",
       " ('Arithmetic mean: 5',\n",
       "  'Harmonic mean: 51/5',\n",
       "  \"Division: ['3', '13', '5', '27', '17']\"))"
      ]
     },
     "execution_count": 73,
     "metadata": {},
     "output_type": "execute_result"
    }
   ],
   "source": [
    "get_all_related_overtones(7, 19, divisor=4), get_all_related_overtones(3, 17, divisor=4)"
   ]
  },
  {
   "cell_type": "code",
   "execution_count": 74,
   "id": "b4ae2038-0504-4edd-beb4-abdabc230250",
   "metadata": {},
   "outputs": [
    {
     "data": {
      "text/plain": [
       "(('Arithmetic mean: 15',\n",
       "  'Harmonic mean: 209/15',\n",
       "  \"Division: ['11', '13', '15', '17', '19']\"),\n",
       " ('Arithmetic mean: 15',\n",
       "  'Harmonic mean: 221/15',\n",
       "  \"Division: ['13', '7', '15', '1', '17']\"))"
      ]
     },
     "execution_count": 74,
     "metadata": {},
     "output_type": "execute_result"
    }
   ],
   "source": [
    "get_all_related_overtones(11, 19, divisor=4), get_all_related_overtones(13, 17, divisor=4)"
   ]
  },
  {
   "cell_type": "code",
   "execution_count": 75,
   "id": "25f0665f-5d65-4bbd-bb06-9eaafcde220a",
   "metadata": {},
   "outputs": [
    {
     "data": {
      "text/plain": [
       "(('Arithmetic mean: 3',\n",
       "  'Harmonic mean: 35/3',\n",
       "  \"Division: ['5', '11', '3', '13', '7']\"),\n",
       " ('Arithmetic mean: 7',\n",
       "  'Harmonic mean: 13/7',\n",
       "  \"Division: ['1', '1', '7', '5', '13']\"))"
      ]
     },
     "execution_count": 75,
     "metadata": {},
     "output_type": "execute_result"
    }
   ],
   "source": [
    "get_all_related_overtones(7, 5, divisor=4), get_all_related_overtones(1, 13, divisor=4)"
   ]
  },
  {
   "cell_type": "code",
   "execution_count": 103,
   "id": "731dea6c-a99f-4e9d-88a5-ac80e4cdb3b8",
   "metadata": {},
   "outputs": [
    {
     "data": {
      "text/plain": [
       "[1, 3, 5, 7, 11, 13, 17, 19]"
      ]
     },
     "execution_count": 103,
     "metadata": {},
     "output_type": "execute_result"
    }
   ],
   "source": [
    "sorted([1, 3, 19, 13, 5, 11, 7, 17])"
   ]
  },
  {
   "cell_type": "code",
   "execution_count": 105,
   "id": "576f3a13-a135-4f69-932a-b5cc57626a68",
   "metadata": {},
   "outputs": [
    {
     "data": {
      "text/plain": [
       "[np.float64(0.0),\n",
       " np.float64(7.01955000865388),\n",
       " np.float64(3.863137138648341),\n",
       " np.float64(9.688259064691252),\n",
       " np.float64(5.513179423647557),\n",
       " np.float64(8.405276617693119),\n",
       " np.float64(1.0495540950040692),\n",
       " np.float64(2.9751301613230225)]"
      ]
     },
     "execution_count": 105,
     "metadata": {},
     "output_type": "execute_result"
    }
   ],
   "source": [
    "[reduce_octaves(hz_to_midi(f0 * midi_to_hz(note_name_to_midi('D4')))) - 2 for f0 in [1, 3, 5, 7, 11, 13, 17, 19]]"
   ]
  },
  {
   "cell_type": "code",
   "execution_count": null,
   "id": "f6db4f28-08be-4a04-9029-fb8c5244583d",
   "metadata": {},
   "outputs": [],
   "source": []
  }
 ],
 "metadata": {
  "kernelspec": {
   "display_name": "Python 3 (ipykernel)",
   "language": "python",
   "name": "python3"
  },
  "language_info": {
   "codemirror_mode": {
    "name": "ipython",
    "version": 3
   },
   "file_extension": ".py",
   "mimetype": "text/x-python",
   "name": "python",
   "nbconvert_exporter": "python",
   "pygments_lexer": "ipython3",
   "version": "3.12.4"
  }
 },
 "nbformat": 4,
 "nbformat_minor": 5
}
