{
 "cells": [
  {
   "cell_type": "code",
   "execution_count": 1,
   "id": "bd915329-8f78-470a-9162-8d0245a09995",
   "metadata": {},
   "outputs": [],
   "source": [
    "from dataclasses import dataclass\n",
    "from fractions import Fraction\n",
    "import numpy as np"
   ]
  },
  {
   "cell_type": "code",
   "execution_count": 2,
   "id": "c3c83089-de36-4ce5-b9f4-6c74a2f94a28",
   "metadata": {},
   "outputs": [],
   "source": [
    "# round to nearest n division of a whole tone. 2 is usual (1/2), 4 is quarter-tone (1/4), etc.\n",
    "def round_midi_to_microtone(x, microtone=2):\n",
    "    microtone //= 2\n",
    "\n",
    "    # base midi number\n",
    "    base = round(x)\n",
    "    # actual deviation\n",
    "    dev = x - base\n",
    "\n",
    "    # quantized deviation\n",
    "    q_dev = round((dev * microtone * 100)/100)/microtone\n",
    "\n",
    "    # np.float everywhere, looks ugly\n",
    "    return base, str(Fraction(q_dev)/2), str(f'{dev*100:.2f}')"
   ]
  },
  {
   "cell_type": "code",
   "execution_count": 3,
   "id": "99863175-0933-4bf8-8e8d-c148832d7aee",
   "metadata": {},
   "outputs": [],
   "source": [
    "def midi_to_note_name(midi_number):\n",
    "    sharp_note_names = ['C', 'C#', 'D', 'D#', 'E', 'F', 'F#', 'G', 'G#', 'A', 'A#', 'B']\n",
    "    flat_note_names = ['C', 'Db', 'D', 'Eb', 'E', 'F', 'Gb', 'G', 'Ab', 'A', 'Bb', 'B']\n",
    "    octave = midi_number // 12 - 1\n",
    "    sharp_note = sharp_note_names[midi_number % 12]\n",
    "    flat_note = flat_note_names[midi_number % 12]\n",
    "    \n",
    "    if sharp_note == flat_note:\n",
    "        return f\"{sharp_note}{octave}\"\n",
    "    else:\n",
    "        return f\"{sharp_note}{octave} / {flat_note}{octave}\"\n",
    "\n",
    "def note_name_to_midi(note_name):\n",
    "    note_name = note_name.upper()\n",
    "    # Mapping of note names to their semitone positions relative to C\n",
    "    note_to_semitone = {\n",
    "        'C': 0, 'C#': 1, 'Db': 1, 'D': 2, 'D#': 3, 'Eb': 3, \n",
    "        'E': 4, 'F': 5, 'F#': 6, 'Gb': 6, 'G': 7, 'G#': 8, \n",
    "        'Ab': 8, 'A': 9, 'A#': 10, 'Bb': 10, 'B': 11\n",
    "    }\n",
    "    \n",
    "    # Extract the note and octave from the input string\n",
    "    note = note_name[:-1]\n",
    "    octave = int(note_name[-1])\n",
    "    \n",
    "    # Calculate the MIDI number\n",
    "    midi_number = 12 * (octave + 1) + note_to_semitone[note]\n",
    "    \n",
    "    return midi_number\n",
    "\n",
    "def midi_to_hz(midi):\n",
    "    return 440 * 2**((midi - 69) / 12)\n",
    "\n",
    "def hz_to_midi(f):\n",
    "    return 69 + 12 * np.log2(f / 440)"
   ]
  },
  {
   "cell_type": "code",
   "execution_count": 4,
   "id": "a022ffdb-7b78-4d00-8745-cc663df16d45",
   "metadata": {},
   "outputs": [],
   "source": [
    "# f0 is the MIDI number of the fundamental frequency\n",
    "# precision = how many divisions of a whole tone. 2 is 12-edo, 4 is quarter tone, etc.\n",
    "# first N overtones or just give a nth overtone?\n",
    "def overtone(f0_midi, n):\n",
    "    hz = midi_to_hz(f0_midi)\n",
    "    result = hz_to_midi(hz * n)\n",
    "\n",
    "    return result\n",
    "\n",
    "def nearest_midi_note(midi):\n",
    "    return round(midi)\n",
    "\n",
    "def nearest_microtone_adjustment(midi, microtone):\n",
    "    microtone //= 2\n",
    "    # base midi number\n",
    "    base = round(midi)\n",
    "    # actual deviation\n",
    "    dev = midi - base\n",
    "    # quantized deviation\n",
    "    q_dev = round((dev * microtone * 100)/100)/microtone\n",
    "\n",
    "    return Fraction(q_dev)/2\n",
    "\n",
    "def reduce_octaves(midi):\n",
    "    return midi % 12"
   ]
  },
  {
   "cell_type": "code",
   "execution_count": 5,
   "id": "513b22c3-bc04-40cd-b5f8-30823270b2e4",
   "metadata": {},
   "outputs": [],
   "source": [
    "@dataclass\n",
    "class MicrotonalPitch:\n",
    "    name: str\n",
    "    microtone_deviation: Fraction\n",
    "    cents_deviation: int\n",
    "\n",
    "    def __repr__(self):\n",
    "        return f'{self.name:<11} {str(self.microtone_deviation):>4} {self.cents_deviation:>3}'\n",
    "    \n",
    "    def __str__(self):\n",
    "        return self.__repr__()\n",
    "\n",
    "def float_midi_to_microtonal_pitch(midi, microtones):\n",
    "    ob_midi = nearest_midi_note(midi)\n",
    "    oc_dev = round((ob_midi - midi)*100)\n",
    "    om_dev = nearest_microtone_adjustment(midi, microtones)\n",
    "    note_name = midi_to_note_name(ob_midi)\n",
    "\n",
    "    return MicrotonalPitch(note_name, om_dev, oc_dev)\n",
    "\n",
    "def overtone_series(note, microtones, n_overtones):\n",
    "    midi = note_name_to_midi(note)\n",
    "    microtonal_pitches = []\n",
    "    for i in range(1, n_overtones+1):\n",
    "        o_midi = overtone(midi, i)\n",
    "        microtonal_pitches.append(float_midi_to_microtonal_pitch(o_midi, microtones))\n",
    "\n",
    "    return microtonal_pitches"
   ]
  },
  {
   "cell_type": "code",
   "execution_count": 6,
   "id": "c7242f25-8041-4035-b0f8-f079d9892fd1",
   "metadata": {},
   "outputs": [],
   "source": [
    "# cents to sibelius pitch bend value\n",
    "def cents_to_pitch_bend(cents):\n",
    "    if cents <= 0:\n",
    "        value = (1 + cents / 200) * 64\n",
    "    else:\n",
    "        value = (cents / 200) * (127 - 64) + 64\n",
    "\n",
    "    return round(value)"
   ]
  },
  {
   "cell_type": "code",
   "execution_count": 7,
   "id": "e17b4023-61ee-4bbe-b271-91b55c7806d1",
   "metadata": {},
   "outputs": [],
   "source": [
    "# `up` is unnecessary. they are the same as the actual sounding notes\n",
    "def _harmonic_location(n, up=True):\n",
    "    if up:\n",
    "        n = 1 / (1 - 1/n)\n",
    "    \n",
    "    return 12 * np.log2(n)\n",
    "\n",
    "def harmonic_location(n, note, microtones, up=True):\n",
    "    distance = _harmonic_location(n, up)\n",
    "    midi = note_name_to_midi(note)\n",
    "    position = distance + midi\n",
    "\n",
    "    return float_midi_to_microtonal_pitch(position, microtones)"
   ]
  },
  {
   "cell_type": "code",
   "execution_count": 8,
   "id": "b902358d-b05a-48f8-9a91-97cea7ce01ba",
   "metadata": {},
   "outputs": [
    {
     "name": "stdout",
     "output_type": "stream",
     "text": [
      "1 : D4             0   0 - microtonal pitch bend: 64 - actual pitch bend: 64\n",
      "3 : A5             0  -2 - microtonal pitch bend: 64 - actual pitch bend: 63\n",
      "5 : F#6 / Gb6   -1/8  14 - microtonal pitch bend: 56 - actual pitch bend: 68\n",
      "7 : C7          -1/8  31 - microtonal pitch bend: 56 - actual pitch bend: 74\n",
      "9 : E7             0  -4 - microtonal pitch bend: 64 - actual pitch bend: 63\n",
      "11: G#7 / Ab7   -1/4  49 - microtonal pitch bend: 48 - actual pitch bend: 79\n",
      "13: A#7 / Bb7    1/4 -41 - microtonal pitch bend: 80 - actual pitch bend: 51\n",
      "15: C#8 / Db8      0  12 - microtonal pitch bend: 64 - actual pitch bend: 68\n",
      "17: D#8 / Eb8      0  -5 - microtonal pitch bend: 64 - actual pitch bend: 62\n",
      "19: F8             0   2 - microtonal pitch bend: 64 - actual pitch bend: 65\n",
      "21: G8          -1/8  29 - microtonal pitch bend: 56 - actual pitch bend: 73\n",
      "23: G#8 / Ab8    1/8 -28 - microtonal pitch bend: 72 - actual pitch bend: 55\n",
      "25: A#8 / Bb8   -1/8  27 - microtonal pitch bend: 56 - actual pitch bend: 73\n",
      "27: B8             0  -6 - microtonal pitch bend: 64 - actual pitch bend: 62\n",
      "29: C9           1/8 -30 - microtonal pitch bend: 72 - actual pitch bend: 54\n",
      "31: C#9 / Db9    1/4 -45 - microtonal pitch bend: 80 - actual pitch bend: 50\n",
      "33: D#9 / Eb9   -1/4  47 - microtonal pitch bend: 48 - actual pitch bend: 79\n"
     ]
    }
   ],
   "source": [
    "# filter odd overtones\n",
    "my_overtones = overtone_series('d4', 8, 35)\n",
    "for idx, val in zip(range(1, 35), my_overtones):\n",
    "    if idx % 2 == 0:\n",
    "        continue\n",
    "    print(f'{idx:<2}: {val} - microtonal pitch bend: {cents_to_pitch_bend(val.microtone_deviation * 200)} - actual pitch bend: {cents_to_pitch_bend(val.cents_deviation)}')"
   ]
  },
  {
   "cell_type": "code",
   "execution_count": 21,
   "id": "9f5562a6-0c8a-4b58-b9cb-459f6f32c9bd",
   "metadata": {},
   "outputs": [
    {
     "name": "stdout",
     "output_type": "stream",
     "text": [
      "2 D4             0   0      D4             0   0\n",
      "3 A3             0  -2      A4             0  -2\n",
      "4 G3             0   2      D5             0   0\n",
      "5 F#3 / Gb3   -1/8  14      F#5 / Gb5   -1/8  14\n",
      "6 F3           1/8 -16      A5             0  -2\n",
      "7 F3          -1/8  33      C6          -1/8  31\n",
      "8 E3           1/8 -31      D6             0   0\n",
      "9 E3             0  -4      E6             0  -4\n",
      "10 E3          -1/8  18      F#6 / Gb6   -1/8  14\n"
     ]
    }
   ],
   "source": [
    "for i in range(2, 11):\n",
    "    print(i, harmonic_location(i, 'd3', 8), \"    \", float_midi_to_microtonal_pitch(overtone(note_name_to_midi('d3'), i), 8))"
   ]
  },
  {
   "cell_type": "markdown",
   "id": "8920f63a-1564-4ad0-a017-6243ac44b243",
   "metadata": {},
   "source": [
    "###### def arithmetic_mean(*xs):\n",
    "    xs = [Fraction(x) for x in xs]\n",
    "    return sum(xs) / len(xs)"
   ]
  },
  {
   "cell_type": "code",
   "execution_count": 11,
   "id": "ae0561a7-4037-478d-bf52-7c07117ede8c",
   "metadata": {},
   "outputs": [],
   "source": [
    "def harmonic_mean(*xs):\n",
    "    xs = [Fraction(x) for x in xs]\n",
    "    return len(xs) / sum(1/x for x in xs)"
   ]
  },
  {
   "cell_type": "code",
   "execution_count": 12,
   "id": "6b7e35fd-84c5-49d6-8604-0ab8a092d3d2",
   "metadata": {},
   "outputs": [],
   "source": [
    "def divide_into(a, b, divisor):\n",
    "    if a > b:\n",
    "        a, b = b, a\n",
    "\n",
    "    diff = b - a\n",
    "    step = Fraction(diff / divisor)\n",
    "\n",
    "    return [a + step * i for i in range(divisor + 1)]"
   ]
  },
  {
   "cell_type": "code",
   "execution_count": 13,
   "id": "488e2c15-a55e-4904-b3d2-b696f2d238d6",
   "metadata": {},
   "outputs": [],
   "source": [
    "def get_all_related_overtones(*xs, divisor=None):\n",
    "    am = arithmetic_mean(*xs)\n",
    "    hm = harmonic_mean(*xs)\n",
    "\n",
    "    ams = f'Arithmetic mean: {am}'\n",
    "    hms = f'Harmonic mean: {hm}'\n",
    "\n",
    "    if len(xs) == 2 and divisor is not None:\n",
    "        division = divide_into(*xs, divisor)\n",
    "        division_s = f'Division: {[str(d) for d in division]}'\n",
    "        return ams, hms, division_s\n",
    "\n",
    "    return ams, hms"
   ]
  },
  {
   "cell_type": "code",
   "execution_count": 14,
   "id": "469cfdc3-770e-40a8-8d41-336bec6e69ae",
   "metadata": {},
   "outputs": [
    {
     "data": {
      "text/plain": [
       "(('Arithmetic mean: 10',\n",
       "  'Harmonic mean: 19/10',\n",
       "  \"Division: ['1', '11/2', '10', '29/2', '19']\"),\n",
       " ('Arithmetic mean: 8',\n",
       "  'Harmonic mean: 39/8',\n",
       "  \"Division: ['3', '11/2', '8', '21/2', '13']\"))"
      ]
     },
     "execution_count": 14,
     "metadata": {},
     "output_type": "execute_result"
    }
   ],
   "source": [
    "get_all_related_overtones(1, 19, divisor=4), get_all_related_overtones(3, 13, divisor=4)"
   ]
  },
  {
   "cell_type": "code",
   "execution_count": 15,
   "id": "9805b550-7f73-4615-9afb-8a59dabf6e73",
   "metadata": {},
   "outputs": [
    {
     "data": {
      "text/plain": [
       "(('Arithmetic mean: 8',\n",
       "  'Harmonic mean: 55/8',\n",
       "  \"Division: ['5', '13/2', '8', '19/2', '11']\"),\n",
       " ('Arithmetic mean: 13',\n",
       "  'Harmonic mean: 133/13',\n",
       "  \"Division: ['7', '10', '13', '16', '19']\"))"
      ]
     },
     "execution_count": 15,
     "metadata": {},
     "output_type": "execute_result"
    }
   ],
   "source": [
    "get_all_related_overtones(5, 11, divisor=4), get_all_related_overtones(7, 19, divisor=4)"
   ]
  },
  {
   "cell_type": "code",
   "execution_count": 16,
   "id": "98eb65c1-e246-4611-83d5-058a9dee1d22",
   "metadata": {},
   "outputs": [
    {
     "data": {
      "text/plain": [
       "(('Arithmetic mean: 12',\n",
       "  'Harmonic mean: 95/12',\n",
       "  \"Division: ['5', '17/2', '12', '31/2', '19']\"),\n",
       " ('Arithmetic mean: 9',\n",
       "  'Harmonic mean: 77/9',\n",
       "  \"Division: ['7', '8', '9', '10', '11']\"))"
      ]
     },
     "execution_count": 16,
     "metadata": {},
     "output_type": "execute_result"
    }
   ],
   "source": [
    "get_all_related_overtones(5, 19, divisor=4), get_all_related_overtones(7, 11, divisor=4)"
   ]
  },
  {
   "cell_type": "code",
   "execution_count": 17,
   "id": "5ac13303-8620-4c37-8b27-601d7ff940b7",
   "metadata": {},
   "outputs": [
    {
     "data": {
      "text/plain": [
       "(('Arithmetic mean: 10',\n",
       "  'Harmonic mean: 91/10',\n",
       "  \"Division: ['7', '17/2', '10', '23/2', '13']\"),\n",
       " ('Arithmetic mean: 3',\n",
       "  'Harmonic mean: 5/3',\n",
       "  \"Division: ['1', '2', '3', '4', '5']\"))"
      ]
     },
     "execution_count": 17,
     "metadata": {},
     "output_type": "execute_result"
    }
   ],
   "source": [
    "get_all_related_overtones(7, 13, divisor=4), get_all_related_overtones(1, 5, divisor=4)"
   ]
  },
  {
   "cell_type": "code",
   "execution_count": 18,
   "id": "d5293ab1-9538-401b-88be-6c25944f22ca",
   "metadata": {},
   "outputs": [
    {
     "data": {
      "text/plain": [
       "(('Arithmetic mean: 11',\n",
       "  'Harmonic mean: 57/11',\n",
       "  \"Division: ['3', '7', '11', '15', '19']\"),\n",
       " ('Arithmetic mean: 7',\n",
       "  'Harmonic mean: 13/7',\n",
       "  \"Division: ['1', '4', '7', '10', '13']\"))"
      ]
     },
     "execution_count": 18,
     "metadata": {},
     "output_type": "execute_result"
    }
   ],
   "source": [
    "get_all_related_overtones(3, 19, divisor=4), get_all_related_overtones(1, 13, divisor=4)"
   ]
  },
  {
   "cell_type": "code",
   "execution_count": 19,
   "id": "408b44a4-4c53-41f0-bfef-4161438b6520",
   "metadata": {},
   "outputs": [
    {
     "data": {
      "text/plain": [
       "(('Arithmetic mean: 13',\n",
       "  'Harmonic mean: 133/13',\n",
       "  \"Division: ['7', '10', '13', '16', '19']\"),\n",
       " ('Arithmetic mean: 10',\n",
       "  'Harmonic mean: 51/10',\n",
       "  \"Division: ['3', '13/2', '10', '27/2', '17']\"))"
      ]
     },
     "execution_count": 19,
     "metadata": {},
     "output_type": "execute_result"
    }
   ],
   "source": [
    "get_all_related_overtones(7, 19, divisor=4), get_all_related_overtones(3, 17, divisor=4)"
   ]
  },
  {
   "cell_type": "code",
   "execution_count": 20,
   "id": "b4ae2038-0504-4edd-beb4-abdabc230250",
   "metadata": {},
   "outputs": [
    {
     "data": {
      "text/plain": [
       "(('Arithmetic mean: 15',\n",
       "  'Harmonic mean: 209/15',\n",
       "  \"Division: ['11', '13', '15', '17', '19']\"),\n",
       " ('Arithmetic mean: 15',\n",
       "  'Harmonic mean: 221/15',\n",
       "  \"Division: ['13', '14', '15', '16', '17']\"))"
      ]
     },
     "execution_count": 20,
     "metadata": {},
     "output_type": "execute_result"
    }
   ],
   "source": [
    "get_all_related_overtones(11, 19, divisor=4), get_all_related_overtones(13, 17, divisor=4)"
   ]
  },
  {
   "cell_type": "code",
   "execution_count": null,
   "id": "25f0665f-5d65-4bbd-bb06-9eaafcde220a",
   "metadata": {},
   "outputs": [],
   "source": [
    "get_all_related_overtones(7, 5, divisor=4), get_all_related_overtones(1, 13, divisor=4)"
   ]
  },
  {
   "cell_type": "code",
   "execution_count": null,
   "id": "731dea6c-a99f-4e9d-88a5-ac80e4cdb3b8",
   "metadata": {},
   "outputs": [],
   "source": []
  }
 ],
 "metadata": {
  "kernelspec": {
   "display_name": "Python 3 (ipykernel)",
   "language": "python",
   "name": "python3"
  },
  "language_info": {
   "codemirror_mode": {
    "name": "ipython",
    "version": 3
   },
   "file_extension": ".py",
   "mimetype": "text/x-python",
   "name": "python",
   "nbconvert_exporter": "python",
   "pygments_lexer": "ipython3",
   "version": "3.12.4"
  }
 },
 "nbformat": 4,
 "nbformat_minor": 5
}
